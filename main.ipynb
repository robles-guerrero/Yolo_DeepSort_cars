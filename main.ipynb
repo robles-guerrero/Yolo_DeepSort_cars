{
 "cells": [
  {
   "cell_type": "code",
   "execution_count": 1,
   "id": "1cac49ce",
   "metadata": {},
   "outputs": [],
   "source": [
    "import flask"
   ]
  },
  {
   "cell_type": "code",
   "execution_count": 2,
   "id": "fd626d86",
   "metadata": {},
   "outputs": [],
   "source": [
    "from flask import Flask\n",
    "import os\n",
    "import urllib.request\n",
    "from flask import Flask, flash, request, redirect, url_for, render_template , send_from_directory\n",
    "from werkzeug.utils import secure_filename"
   ]
  },
  {
   "cell_type": "code",
   "execution_count": null,
   "id": "63797384",
   "metadata": {},
   "outputs": [],
   "source": []
  },
  {
   "cell_type": "code",
   "execution_count": 3,
   "id": "f115916a",
   "metadata": {},
   "outputs": [],
   "source": [
    "UPLOAD_FOLDER = 'static/uploads/'\n",
    "#DOWNLOAD_FOLDER = 'static/downloads/'\n",
    "\n",
    "app = Flask(__name__)\n",
    "app.secret_key = \"secret key\"\n",
    "app.config['UPLOAD_FOLDER'] = UPLOAD_FOLDER\n",
    "#app.config['DOWNLOAD_FOLDER'] = DOWNLOAD_FOLDER\n",
    "app.config['MAX_CONTENT_LENGTH'] = 16 * 1024 * 1024"
   ]
  },
  {
   "cell_type": "code",
   "execution_count": 4,
   "id": "93f6309d",
   "metadata": {},
   "outputs": [],
   "source": [
    "a='''\n",
    "<!doctype html>\n",
    "<title>Python Flask - Video Upload and Play Example</title>\n",
    "\n",
    "<style>\n",
    "\n",
    "h1{\n",
    "color:white;\n",
    "}\n",
    "\n",
    "a{\n",
    "color:white;\n",
    "}\n",
    "\n",
    "p{\n",
    "color:white;\n",
    "}\n",
    "\n",
    "body {\n",
    "  margin:0px;\n",
    "  height:100vh;\n",
    "  background: gray;\n",
    "  background-image: linear-gradient(rgba(4,9,30,0.7),rgba(4,9,30,0.7)),url(https://www.history.com/.image/ar_233:100%2Cc_fill%2Ccs_srgb%2Cg_faces:center%2Cq_auto:good%2Cw_1920/MTg0NTg4OTc1MDYxNjA3OTEx/interstate-highway-gettyimages-1318535229.webp)\n",
    "}\n",
    "\n",
    ".upload {\n",
    "  width:45%;\n",
    "  height:45px;\n",
    "  line-height:50px;\n",
    "  text-align:center;\n",
    "  background:#1172c2;\n",
    "  color:#fff;\n",
    "  font-size:15px;\n",
    "  font-family:\"Open Sans\",sans-serif;\n",
    "  text-transform:Uppercase;\n",
    "  font-weight:600;\n",
    "  border-radius:5px;\n",
    "  cursor:pointer;\n",
    "}\n",
    "\n",
    "footer {\n",
    "   position:realative;\n",
    "   bottom:0;\n",
    "   width:100%;\n",
    "   height:75px;   /* Height of the footer */\n",
    "   background:black;\n",
    "}\n",
    "\n",
    "</style>\n",
    "\n",
    "<center><h1>Select a video to upload and play</h1>\n",
    "<form method=\"post\" action=\"/\" enctype=\"multipart/form-data\">\n",
    "    <dl>\n",
    "\t\t<p>\n",
    "\t\t\t<input type=\"file\" name=\"file\" autocomplete=\"off\" required>\n",
    "\t\t</p>\n",
    "    </dl>\n",
    "    <p>\n",
    "\t\t<input class='upload' type=\"submit\" value=\"Upload\">\n",
    "\t</p>\n",
    "    </center>\n",
    "</form>\n",
    "<body>\n",
    "<center>\n",
    "{% if filename %}\n",
    "\t<div style=\"margin: 10px auto;\">\n",
    "\t\t<video autoplay=\"autoplay\" controls=\"controls\" preload=\"preload\" height=\"375\" width=\"450\">\n",
    "\t\t\t<source src=\"{{ url_for('display_video', filename=filename) }}\" type=\"video/mp4\"></source>\n",
    "\t\t</video>\n",
    "    </div>\n",
    "    <div style=\"margin: 10px auto;\">\n",
    "        <p>\n",
    "            <a href=\"{{url_for('.download')}}\">Download_frame_counts</a>\n",
    "        </p>\n",
    "\t</div>\n",
    "    \n",
    "{% endif %}\n",
    "</center>\n",
    "\n",
    "</body>\n",
    "<body>\n",
    "</body>\n",
    "<center>\n",
    "<footer>\n",
    "  \n",
    "  <a><img src=\"https://images.mlssoccer.com/image/private/t_editorial_landscape_8_desktop_mobile/mls-atl-prd/zale5zzc9nsxiyahakp7.jpg\" height=\"75\" width=\"250\"></a>\n",
    "</footer>\n",
    "</center>\n",
    "'''"
   ]
  },
  {
   "cell_type": "markdown",
   "id": "75cd3678",
   "metadata": {},
   "source": [
    "</body>\n",
    "<center>\n",
    "<footer>\n",
    "  \n",
    "  <a><img src=\"https://images.mlssoccer.com/image/private/t_editorial_landscape_8_desktop_mobile/mls-atl-prd/zale5zzc9nsxiyahakp7.jpg\" height=\"75\" width=\"250\"></a>\n",
    "</footer>\n",
    "</center>"
   ]
  },
  {
   "cell_type": "code",
   "execution_count": 5,
   "id": "0a32143b",
   "metadata": {},
   "outputs": [],
   "source": [
    "#C:\\Users\\Consultant\\yolov4-deepsort\\templates"
   ]
  },
  {
   "cell_type": "code",
   "execution_count": 6,
   "id": "7848a2e5",
   "metadata": {},
   "outputs": [],
   "source": [
    "Html_file = open('templates\\index.html','w')\n",
    "Html_file.write(a)\n",
    "Html_file.close()"
   ]
  },
  {
   "cell_type": "code",
   "execution_count": null,
   "id": "fa9d108b",
   "metadata": {},
   "outputs": [
    {
     "name": "stdout",
     "output_type": "stream",
     "text": [
      " * Serving Flask app '__main__' (lazy loading)\n",
      " * Environment: production\n",
      "\u001b[31m   WARNING: This is a development server. Do not use it in a production deployment.\u001b[0m\n",
      "\u001b[2m   Use a production WSGI server instead.\u001b[0m\n",
      " * Debug mode: off\n"
     ]
    },
    {
     "name": "stderr",
     "output_type": "stream",
     "text": [
      " * Running on http://127.0.0.1:5000 (Press CTRL+C to quit)\n",
      "127.0.0.1 - - [14/Jul/2022 08:50:56] \"GET / HTTP/1.1\" 200 -\n",
      "127.0.0.1 - - [14/Jul/2022 08:50:57] \"GET /favicon.ico HTTP/1.1\" 404 -\n",
      "127.0.0.1 - - [14/Jul/2022 08:51:21] \"POST / HTTP/1.1\" 200 -\n",
      "127.0.0.1 - - [14/Jul/2022 08:51:21] \"GET /display/demo_cars.avi HTTP/1.1\" 301 -\n",
      "127.0.0.1 - - [14/Jul/2022 08:51:21] \"GET /static/uploads/demo_cars.avi HTTP/1.1\" 206 -\n",
      "127.0.0.1 - - [14/Jul/2022 08:51:43] \"POST / HTTP/1.1\" 200 -\n",
      "127.0.0.1 - - [14/Jul/2022 08:51:43] \"GET /static/uploads/traffic_1.mp4 HTTP/1.1\" 200 -\n",
      "127.0.0.1 - - [14/Jul/2022 08:51:43] \"GET /static/uploads/traffic_1.mp4 HTTP/1.1\" 206 -\n",
      "127.0.0.1 - - [14/Jul/2022 08:51:43] \"GET /static/uploads/traffic_1.mp4 HTTP/1.1\" 206 -\n",
      "127.0.0.1 - - [14/Jul/2022 08:51:52] \"GET /static/uploads/traffic_1.mp4 HTTP/1.1\" 206 -\n",
      "127.0.0.1 - - [14/Jul/2022 09:38:01] \"GET / HTTP/1.1\" 200 -\n",
      "127.0.0.1 - - [14/Jul/2022 14:31:26] \"POST / HTTP/1.1\" 200 -\n",
      "127.0.0.1 - - [14/Jul/2022 14:31:26] \"GET /display/parking_lot_Tracking.mp4 HTTP/1.1\" 301 -\n",
      "127.0.0.1 - - [14/Jul/2022 14:31:26] \"GET /static/uploads/parking_lot_Tracking.mp4 HTTP/1.1\" 206 -\n",
      "127.0.0.1 - - [14/Jul/2022 14:31:26] \"GET /static/uploads/parking_lot_Tracking.mp4 HTTP/1.1\" 206 -\n",
      "127.0.0.1 - - [14/Jul/2022 14:31:43] \"GET /static/uploads/parking_lot_Tracking.mp4 HTTP/1.1\" 206 -\n"
     ]
    }
   ],
   "source": [
    "@app.route('/')\n",
    "def upload_form():\n",
    "\treturn render_template('index.html')\n",
    "\n",
    "@app.route('/', methods=['POST'])\n",
    "def upload_video():\n",
    "\tif 'file' not in request.files:\n",
    "\t\tflash('No file part')\n",
    "\t\treturn redirect(request.url)\n",
    "\tfile = request.files['file']\n",
    "\tif file.filename == '':\n",
    "\t\tflash('No image selected for uploading')\n",
    "\t\treturn redirect(request.url)\n",
    "\telse:\n",
    "\t\tfilename = secure_filename(file.filename)\n",
    "\t\tfile.save(os.path.join(app.config['UPLOAD_FOLDER'], filename))\n",
    "\t\t#print('upload_video filename: ' + filename)\n",
    "\t\tflash('Video successfully uploaded and displayed below')\n",
    "\t\treturn render_template('index.html', filename=filename)\n",
    "\n",
    "@app.route('/display/<filename>')\n",
    "def display_video(filename):\n",
    "\t#print('display_video filename: ' + filename)\n",
    "\treturn redirect(url_for('static', filename='uploads/' + filename), code=301)\n",
    "\n",
    "@app.route('/download')\n",
    "def download():\n",
    "    path = 'frame_counts.csv'\n",
    "    return send_file(path, as_attachment=True)\n",
    "\n",
    "if __name__ == \"__main__\":\n",
    "    app.run()"
   ]
  },
  {
   "cell_type": "code",
   "execution_count": null,
   "id": "abcb5cae",
   "metadata": {},
   "outputs": [],
   "source": []
  }
 ],
 "metadata": {
  "kernelspec": {
   "display_name": "yolov4_cpu",
   "language": "python",
   "name": "yolov4_cpu"
  },
  "language_info": {
   "codemirror_mode": {
    "name": "ipython",
    "version": 3
   },
   "file_extension": ".py",
   "mimetype": "text/x-python",
   "name": "python",
   "nbconvert_exporter": "python",
   "pygments_lexer": "ipython3",
   "version": "3.7.0"
  }
 },
 "nbformat": 4,
 "nbformat_minor": 5
}
